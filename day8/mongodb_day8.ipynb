{
 "cells": [
  {
   "cell_type": "code",
   "execution_count": 14,
   "metadata": {},
   "outputs": [],
   "source": [
    "from pymongo import MongoClient\n",
    "myclient = MongoClient(\"mongodb://localhost:27017\")"
   ]
  },
  {
   "cell_type": "code",
   "execution_count": 15,
   "metadata": {},
   "outputs": [],
   "source": [
    "mydb = myclient[\"productsdb\"]"
   ]
  },
  {
   "cell_type": "code",
   "execution_count": 16,
   "metadata": {},
   "outputs": [],
   "source": [
    "myProducts = mydb[\"tblProducts\"]"
   ]
  },
  {
   "cell_type": "code",
   "execution_count": 17,
   "metadata": {},
   "outputs": [
    {
     "data": {
      "text/plain": [
       "<pymongo.results.InsertOneResult at 0x237c9081f70>"
      ]
     },
     "execution_count": 17,
     "metadata": {},
     "output_type": "execute_result"
    }
   ],
   "source": [
    "# Do mongodb sử dụng cơ chế Lazy loading nên chỉ khi thêm dữ liệu mới hoàn tất tạo database và collection\n",
    "myProducts.insert_one({\"pid\":\"p01\",\"name\":\"pepsi\",\"price\":5.5,\"quantity\":20})"
   ]
  },
  {
   "cell_type": "code",
   "execution_count": 18,
   "metadata": {},
   "outputs": [
    {
     "name": "stdout",
     "output_type": "stream",
     "text": [
      "['admin', 'config', 'dbQLNV', 'local', 'productsdb', 'restaurantdb', 'saledb', 'sample_analytics']\n"
     ]
    }
   ],
   "source": [
    "print(myclient.list_database_names())"
   ]
  },
  {
   "cell_type": "code",
   "execution_count": 19,
   "metadata": {},
   "outputs": [
    {
     "name": "stdout",
     "output_type": "stream",
     "text": [
      "['tblProducts']\n"
     ]
    }
   ],
   "source": [
    "print(mydb.list_collection_names())"
   ]
  },
  {
   "cell_type": "code",
   "execution_count": 20,
   "metadata": {},
   "outputs": [
    {
     "data": {
      "text/plain": [
       "<pymongo.results.InsertManyResult at 0x237c714ddc0>"
      ]
     },
     "execution_count": 20,
     "metadata": {},
     "output_type": "execute_result"
    }
   ],
   "source": [
    "listData=[\n",
    "    {\"pid\":\"p02\",\"name\":\"coke\",\"price\":4.5,\"quantity\":50},\n",
    "    {\"pid\":\"p03\",\"name\":\"O2\",\"price\":1.5,\"quantity\":150},\n",
    "    {\"pid\":\"p04\",\"name\":\"dr thanh\",\"price\":2,\"quantity\":100},\n",
    "    {\"pid\":\"p05\",\"name\":\"C2\",\"price\":4,\"quantity\":200}\n",
    "]\n",
    "\n",
    "myProducts.insert_many(listData)"
   ]
  },
  {
   "cell_type": "code",
   "execution_count": 22,
   "metadata": {},
   "outputs": [
    {
     "name": "stdout",
     "output_type": "stream",
     "text": [
      "{'_id': ObjectId('6325b0bee74daf64f9a6957d'), 'pid': 'p01', 'name': 'pepsi', 'price': 5.5, 'quantity': 20}\n",
      "{'_id': ObjectId('6325b19be74daf64f9a69582'), 'pid': 'p02', 'name': 'coke', 'price': 4.5, 'quantity': 50}\n",
      "{'_id': ObjectId('6325b19be74daf64f9a69583'), 'pid': 'p03', 'name': 'O2', 'price': 1.5, 'quantity': 150}\n",
      "{'_id': ObjectId('6325b19be74daf64f9a69584'), 'pid': 'p04', 'name': 'dr thanh', 'price': 2, 'quantity': 100}\n",
      "{'_id': ObjectId('6325b19be74daf64f9a69585'), 'pid': 'p05', 'name': 'C2', 'price': 4, 'quantity': 200}\n"
     ]
    }
   ],
   "source": [
    "for x in myProducts.find():\n",
    "    print(x)"
   ]
  },
  {
   "cell_type": "code",
   "execution_count": 23,
   "metadata": {},
   "outputs": [],
   "source": [
    "myclient.close()"
   ]
  }
 ],
 "metadata": {
  "kernelspec": {
   "display_name": "Python 3.9.12 ('base')",
   "language": "python",
   "name": "python3"
  },
  "language_info": {
   "codemirror_mode": {
    "name": "ipython",
    "version": 3
   },
   "file_extension": ".py",
   "mimetype": "text/x-python",
   "name": "python",
   "nbconvert_exporter": "python",
   "pygments_lexer": "ipython3",
   "version": "3.9.12"
  },
  "orig_nbformat": 4,
  "vscode": {
   "interpreter": {
    "hash": "88279d2366fe020547cde40dd65aa0e3aa662a6ec1f3ca12d88834876c85e1a6"
   }
  }
 },
 "nbformat": 4,
 "nbformat_minor": 2
}
