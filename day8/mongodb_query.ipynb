{
 "cells": [
  {
   "cell_type": "code",
   "execution_count": 18,
   "metadata": {},
   "outputs": [],
   "source": [
    "from pymongo import MongoClient\n",
    "myclient = MongoClient(\"mongodb://localhost:27017\")"
   ]
  },
  {
   "cell_type": "code",
   "execution_count": 19,
   "metadata": {},
   "outputs": [],
   "source": [
    "mydb = myclient[\"saledb\"]  # Ánh xạ database Sale"
   ]
  },
  {
   "cell_type": "code",
   "execution_count": 20,
   "metadata": {},
   "outputs": [],
   "source": [
    "mySales = mydb[\"tblsale\"]   # Ánh xạ collection tblsale"
   ]
  },
  {
   "cell_type": "code",
   "execution_count": 21,
   "metadata": {},
   "outputs": [
    {
     "name": "stdout",
     "output_type": "stream",
     "text": [
      "{'_id': ObjectId('5bd761dcae323e45a93ccfe8'), 'saleDate': datetime.datetime(2015, 3, 23, 21, 6, 49, 506000), 'items': [{'name': 'printer paper', 'tags': ['office', 'stationary'], 'price': Decimal128('40.01'), 'quantity': 2}, {'name': 'notepad', 'tags': ['office', 'writing', 'school'], 'price': Decimal128('35.29'), 'quantity': 2}, {'name': 'pens', 'tags': ['writing', 'office', 'school', 'stationary'], 'price': Decimal128('56.12'), 'quantity': 5}, {'name': 'backpack', 'tags': ['school', 'travel', 'kids'], 'price': Decimal128('77.71'), 'quantity': 2}, {'name': 'notepad', 'tags': ['office', 'writing', 'school'], 'price': Decimal128('18.47'), 'quantity': 2}, {'name': 'envelopes', 'tags': ['stationary', 'office', 'general'], 'price': Decimal128('19.95'), 'quantity': 8}, {'name': 'envelopes', 'tags': ['stationary', 'office', 'general'], 'price': Decimal128('8.08'), 'quantity': 3}, {'name': 'binder', 'tags': ['school', 'general', 'organization'], 'price': Decimal128('14.16'), 'quantity': 3}], 'storeLocation': 'Denver', 'customer': {'gender': 'M', 'age': 42, 'email': 'cauho@witwuta.sv', 'satisfaction': 4}, 'couponUsed': True, 'purchaseMethod': 'Online'}\n",
      "{'_id': ObjectId('5bd761dcae323e45a93ccfef'), 'saleDate': datetime.datetime(2014, 3, 31, 16, 2, 6, 624000), 'items': [{'name': 'envelopes', 'tags': ['stationary', 'office', 'general'], 'price': Decimal128('21.95'), 'quantity': 8}, {'name': 'notepad', 'tags': ['office', 'writing', 'school'], 'price': Decimal128('5.45'), 'quantity': 5}, {'name': 'notepad', 'tags': ['office', 'writing', 'school'], 'price': Decimal128('8.27'), 'quantity': 4}, {'name': 'backpack', 'tags': ['school', 'travel', 'kids'], 'price': Decimal128('87.13'), 'quantity': 2}, {'name': 'envelopes', 'tags': ['stationary', 'office', 'general'], 'price': Decimal128('11.79'), 'quantity': 9}, {'name': 'pens', 'tags': ['writing', 'office', 'school', 'stationary'], 'price': Decimal128('42.7'), 'quantity': 4}, {'name': 'binder', 'tags': ['school', 'general', 'organization'], 'price': Decimal128('23.71'), 'quantity': 10}, {'name': 'laptop', 'tags': ['electronics', 'school', 'office'], 'price': Decimal128('584.56'), 'quantity': 5}, {'name': 'printer paper', 'tags': ['office', 'stationary'], 'price': Decimal128('46.71'), 'quantity': 7}, {'name': 'binder', 'tags': ['school', 'general', 'organization'], 'price': Decimal128('21.22'), 'quantity': 10}], 'storeLocation': 'Austin', 'customer': {'gender': 'M', 'age': 71, 'email': 'man@bob.mz', 'satisfaction': 3}, 'couponUsed': False, 'purchaseMethod': 'Online'}\n",
      "{'_id': ObjectId('5bd761dcae323e45a93ccff5'), 'saleDate': datetime.datetime(2015, 11, 15, 18, 8, 12, 414000), 'items': [{'name': 'laptop', 'tags': ['electronics', 'school', 'office'], 'price': Decimal128('644.76'), 'quantity': 3}, {'name': 'notepad', 'tags': ['office', 'writing', 'school'], 'price': Decimal128('24.4'), 'quantity': 3}, {'name': 'envelopes', 'tags': ['stationary', 'office', 'general'], 'price': Decimal128('9.22'), 'quantity': 2}, {'name': 'backpack', 'tags': ['school', 'travel', 'kids'], 'price': Decimal128('83.27'), 'quantity': 2}, {'name': 'pens', 'tags': ['writing', 'office', 'school', 'stationary'], 'price': Decimal128('66.73'), 'quantity': 3}, {'name': 'notepad', 'tags': ['office', 'writing', 'school'], 'price': Decimal128('18.87'), 'quantity': 5}], 'storeLocation': 'Seattle', 'customer': {'gender': 'M', 'age': 55, 'email': 'eja@ko.es', 'satisfaction': 2}, 'couponUsed': False, 'purchaseMethod': 'Online'}\n",
      "{'_id': ObjectId('5bd761dcae323e45a93ccffe'), 'saleDate': datetime.datetime(2013, 3, 20, 16, 36, 39, 112000), 'items': [{'name': 'notepad', 'tags': ['office', 'writing', 'school'], 'price': Decimal128('25.83'), 'quantity': 5}, {'name': 'printer paper', 'tags': ['office', 'stationary'], 'price': Decimal128('14.6'), 'quantity': 2}, {'name': 'pens', 'tags': ['writing', 'office', 'school', 'stationary'], 'price': Decimal128('7.49'), 'quantity': 1}, {'name': 'backpack', 'tags': ['school', 'travel', 'kids'], 'price': Decimal128('149.09'), 'quantity': 4}, {'name': 'laptop', 'tags': ['electronics', 'school', 'office'], 'price': Decimal128('898.84'), 'quantity': 1}, {'name': 'binder', 'tags': ['school', 'general', 'organization'], 'price': Decimal128('21.01'), 'quantity': 2}, {'name': 'notepad', 'tags': ['office', 'writing', 'school'], 'price': Decimal128('21.06'), 'quantity': 4}, {'name': 'envelopes', 'tags': ['stationary', 'office', 'general'], 'price': Decimal128('21.48'), 'quantity': 8}, {'name': 'notepad', 'tags': ['office', 'writing', 'school'], 'price': Decimal128('39.38'), 'quantity': 3}, {'name': 'binder', 'tags': ['school', 'general', 'organization'], 'price': Decimal128('13.07'), 'quantity': 4}], 'storeLocation': 'San Diego', 'customer': {'gender': 'M', 'age': 61, 'email': 'ucikosusu@sid.uz', 'satisfaction': 1}, 'couponUsed': False, 'purchaseMethod': 'Online'}\n",
      "{'_id': ObjectId('5bd761dcae323e45a93cd000'), 'saleDate': datetime.datetime(2015, 5, 15, 13, 43, 24, 561000), 'items': [{'name': 'printer paper', 'tags': ['office', 'stationary'], 'price': Decimal128('47.95'), 'quantity': 9}, {'name': 'notepad', 'tags': ['office', 'writing', 'school'], 'price': Decimal128('35.27'), 'quantity': 4}, {'name': 'laptop', 'tags': ['electronics', 'school', 'office'], 'price': Decimal128('542.81'), 'quantity': 1}, {'name': 'notepad', 'tags': ['office', 'writing', 'school'], 'price': Decimal128('13.76'), 'quantity': 5}, {'name': 'backpack', 'tags': ['school', 'travel', 'kids'], 'price': Decimal128('95.65'), 'quantity': 3}, {'name': 'envelopes', 'tags': ['stationary', 'office', 'general'], 'price': Decimal128('13.77'), 'quantity': 9}, {'name': 'envelopes', 'tags': ['stationary', 'office', 'general'], 'price': Decimal128('5.87'), 'quantity': 4}, {'name': 'binder', 'tags': ['school', 'general', 'organization'], 'price': Decimal128('20.68'), 'quantity': 7}], 'storeLocation': 'London', 'customer': {'gender': 'F', 'age': 27, 'email': 'zu@bainku.za', 'satisfaction': 5}, 'couponUsed': False, 'purchaseMethod': 'Online'}\n"
     ]
    }
   ],
   "source": [
    "# Lấy 5 sản phẩm có purchaseMethod là Online\n",
    "result = mySales.find({\n",
    "    \"purchaseMethod\":\"Online\"\n",
    "}).limit(5)\n",
    "\n",
    "for item in result:\n",
    "    print(item)"
   ]
  },
  {
   "cell_type": "code",
   "execution_count": 22,
   "metadata": {},
   "outputs": [
    {
     "name": "stdout",
     "output_type": "stream",
     "text": [
      "{'saleDate': datetime.datetime(2015, 3, 23, 21, 6, 49, 506000), 'storeLocation': 'Denver', 'purchaseMethod': 'Online'}\n",
      "{'saleDate': datetime.datetime(2015, 9, 2, 16, 11, 59, 565000), 'storeLocation': 'London', 'purchaseMethod': 'In store'}\n",
      "{'saleDate': datetime.datetime(2017, 6, 22, 9, 54, 14, 185000), 'storeLocation': 'Denver', 'purchaseMethod': 'In store'}\n",
      "{'saleDate': datetime.datetime(2014, 11, 11, 2, 13, 51, 893000), 'storeLocation': 'London', 'purchaseMethod': 'In store'}\n",
      "{'saleDate': datetime.datetime(2015, 2, 23, 9, 53, 59, 343000), 'storeLocation': 'Seattle', 'purchaseMethod': 'In store'}\n"
     ]
    }
   ],
   "source": [
    "# Lấy 5 phần từ chỉ lấy saleData, storeLocation, purchaseMethod \n",
    "# Chỉ hiển thị các trường trên thì nên để _id bằng 0\n",
    "result01 = mySales.find(\n",
    "    {},\n",
    "    {\"saleDate\":1,\n",
    "     \"storeLocation\":1,\n",
    "     \"purchaseMethod\":1,\n",
    "     \"_id\":0}\n",
    ").limit(5)\n",
    "\n",
    "for item in result01:\n",
    "    print(item)"
   ]
  },
  {
   "cell_type": "code",
   "execution_count": 33,
   "metadata": {},
   "outputs": [
    {
     "name": "stdout",
     "output_type": "stream",
     "text": [
      "{'saleDate': datetime.datetime(2015, 3, 23, 21, 6, 49, 506000), 'storeLocation': 'Denver', 'couponUsed': True, 'purchaseMethod': 'Online'}\n",
      "{'saleDate': datetime.datetime(2017, 3, 21, 1, 54, 26, 657000), 'storeLocation': 'New York', 'couponUsed': True, 'purchaseMethod': 'In store'}\n",
      "{'saleDate': datetime.datetime(2016, 8, 15, 4, 5, 3, 298000), 'storeLocation': 'San Diego', 'couponUsed': True, 'purchaseMethod': 'In store'}\n",
      "{'saleDate': datetime.datetime(2016, 5, 16, 3, 43, 15, 808000), 'storeLocation': 'Seattle', 'couponUsed': True, 'purchaseMethod': 'In store'}\n",
      "{'saleDate': datetime.datetime(2016, 10, 22, 18, 50, 44, 216000), 'storeLocation': 'Seattle', 'couponUsed': True, 'purchaseMethod': 'In store'}\n"
     ]
    }
   ],
   "source": [
    "# Lấy 5 phần từ chỉ lấy saleData, storeLocation, purchaseMethod nhưng có couponUsed là true\n",
    "result02 = mySales.find(\n",
    "    {\"couponUsed\": True},   # True viết hoa\n",
    "    {\"saleDate\":1,\n",
    "     \"storeLocation\":1,\n",
    "     \"purchaseMethod\":1,\n",
    "     \"_id\":0,\n",
    "     }\n",
    ").limit(5)\n",
    "\n",
    "for item in result02:\n",
    "    print(item)"
   ]
  },
  {
   "cell_type": "code",
   "execution_count": null,
   "metadata": {},
   "outputs": [],
   "source": [
    "# Sắp xếp giảm dần theo storeLocation và lấy 5 phần tử\n",
    "result03 = mySales.find().sort(\"storeLocation\",-1).limit(5)\n",
    "\n",
    "for item in result03:\n",
    "    print(item)"
   ]
  },
  {
   "cell_type": "code",
   "execution_count": null,
   "metadata": {},
   "outputs": [],
   "source": [
    "# Xoá 1 phần từ có storeLocation là London\n",
    "mySales.delete_one({\n",
    "    \"storeLocation\":\"London\"\n",
    "})"
   ]
  },
  {
   "cell_type": "code",
   "execution_count": null,
   "metadata": {},
   "outputs": [],
   "source": [
    "# Xoá tất cả các phần tử có storeLocation là London\n",
    "mySales.delete_many({\n",
    "    \"storeLocation\":\"London\"\n",
    "})\n"
   ]
  },
  {
   "cell_type": "code",
   "execution_count": 50,
   "metadata": {},
   "outputs": [
    {
     "name": "stdout",
     "output_type": "stream",
     "text": [
      "{'_id': ObjectId('5bd761dcae323e45a93ccfef'), 'saleDate': datetime.datetime(2014, 3, 31, 16, 2, 6, 624000), 'items': [{'name': 'envelopes', 'tags': ['stationary', 'office', 'general'], 'price': Decimal128('21.95'), 'quantity': 8}, {'name': 'notepad', 'tags': ['office', 'writing', 'school'], 'price': Decimal128('5.45'), 'quantity': 5}, {'name': 'notepad', 'tags': ['office', 'writing', 'school'], 'price': Decimal128('8.27'), 'quantity': 4}, {'name': 'backpack', 'tags': ['school', 'travel', 'kids'], 'price': Decimal128('87.13'), 'quantity': 2}, {'name': 'envelopes', 'tags': ['stationary', 'office', 'general'], 'price': Decimal128('11.79'), 'quantity': 9}, {'name': 'pens', 'tags': ['writing', 'office', 'school', 'stationary'], 'price': Decimal128('42.7'), 'quantity': 4}, {'name': 'binder', 'tags': ['school', 'general', 'organization'], 'price': Decimal128('23.71'), 'quantity': 10}, {'name': 'laptop', 'tags': ['electronics', 'school', 'office'], 'price': Decimal128('584.56'), 'quantity': 5}, {'name': 'printer paper', 'tags': ['office', 'stationary'], 'price': Decimal128('46.71'), 'quantity': 7}, {'name': 'binder', 'tags': ['school', 'general', 'organization'], 'price': Decimal128('21.22'), 'quantity': 10}], 'storeLocation': 'Austin', 'customer': {'gender': 'M', 'age': 71, 'email': 'man@bob.mz', 'satisfaction': 3}, 'couponUsed': False, 'purchaseMethod': 'Online'}\n"
     ]
    }
   ],
   "source": [
    "# Hiển thị phần tử có _id là 5bd761dcae323e45a93ccfef\n",
    "from bson.objectid import ObjectId\n",
    "result06 = mySales.find_one(\n",
    "    {\"_id\":ObjectId(\"5bd761dcae323e45a93ccfef\")}\n",
    ")\n",
    "print(result06)"
   ]
  },
  {
   "cell_type": "code",
   "execution_count": null,
   "metadata": {},
   "outputs": [],
   "source": [
    "# Cập nhật storeLocation, purchaseMethod của phần tử có _id là 5bd761dcae323e45a93ccfef thành Vietnam và Instore\n",
    "mySales.update_one({\n",
    "    {\"_id\":ObjectId(\"5bd761dcae323e45a93ccfef\")},\n",
    "    \n",
    "})\n"
   ]
  }
 ],
 "metadata": {
  "kernelspec": {
   "display_name": "Python 3.9.12 ('base')",
   "language": "python",
   "name": "python3"
  },
  "language_info": {
   "codemirror_mode": {
    "name": "ipython",
    "version": 3
   },
   "file_extension": ".py",
   "mimetype": "text/x-python",
   "name": "python",
   "nbconvert_exporter": "python",
   "pygments_lexer": "ipython3",
   "version": "3.9.12"
  },
  "orig_nbformat": 4,
  "vscode": {
   "interpreter": {
    "hash": "88279d2366fe020547cde40dd65aa0e3aa662a6ec1f3ca12d88834876c85e1a6"
   }
  }
 },
 "nbformat": 4,
 "nbformat_minor": 2
}
